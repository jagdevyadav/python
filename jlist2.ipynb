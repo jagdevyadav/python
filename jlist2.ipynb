{
 "cells": [
  {
   "cell_type": "code",
   "execution_count": 3,
   "metadata": {
    "tags": []
   },
   "outputs": [
    {
     "name": "stdout",
     "output_type": "stream",
     "text": [
      "['10', '20', '30', '40', '50']\n"
     ]
    }
   ],
   "source": [
    "lst=[]\n",
    "for i in range(0,5):\n",
    "    lst.append(input(\"Provide Input \"))\n",
    "print(lst)\n",
    "    "
   ]
  },
  {
   "cell_type": "code",
   "execution_count": 2,
   "metadata": {
    "tags": []
   },
   "outputs": [
    {
     "name": "stdout",
     "output_type": "stream",
     "text": [
      "['anshishka', 'hitansh', 'aarti shokeen', 'Yuvika', 'Tanishq']\n"
     ]
    }
   ],
   "source": [
    "print(lst)"
   ]
  },
  {
   "cell_type": "code",
   "execution_count": 4,
   "metadata": {
    "tags": []
   },
   "outputs": [
    {
     "name": "stdout",
     "output_type": "stream",
     "text": [
      "aarti shokeen\n",
      "Tanishq\n"
     ]
    }
   ],
   "source": [
    "print(lst[2])\n",
    "print(lst[4])"
   ]
  },
  {
   "cell_type": "code",
   "execution_count": 5,
   "metadata": {
    "tags": []
   },
   "outputs": [
    {
     "name": "stdout",
     "output_type": "stream",
     "text": [
      "['anshishka', 'Hitansh Kumar', 'aarti shokeen', 'Yuvika', 'Tanishq']\n"
     ]
    }
   ],
   "source": [
    "lst[1]=\"Hitansh Kumar\"\n",
    "print(lst)"
   ]
  },
  {
   "cell_type": "code",
   "execution_count": 1,
   "metadata": {
    "tags": []
   },
   "outputs": [
    {
     "name": "stdout",
     "output_type": "stream",
     "text": [
      "[100, 50, 6, 7, 8, 20, 17, 19, 200, 199]\n",
      "55 not present in list\n"
     ]
    }
   ],
   "source": [
    "#to store marks\n",
    "marks=[]\n",
    "for i in range(0,10):\n",
    "    marks.append(int(input(\"Enter marks \")))\n",
    "#to print list of marks\n",
    "print(marks)\n",
    "\n",
    "#to read a value to be search in list marks\n",
    "item=int(input(\"Enter Item to search in Marks List \"))\n",
    "\n",
    "found=False         #a bookmark as art integration\n",
    "for i in marks:     #to scan all values of marks list\n",
    "    if i==item:     #to match the current value of marks with value in item\n",
    "        found=True  #set value of found to True if above condition is true\n",
    "if found:           #checking value of found when above loop ends\n",
    "    print(item, \"present in list\")\n",
    "else:\n",
    "    print(item, \"not present in list\")\n"
   ]
  },
  {
   "cell_type": "code",
   "execution_count": 3,
   "metadata": {
    "tags": []
   },
   "outputs": [
    {
     "name": "stdout",
     "output_type": "stream",
     "text": [
      "Now marks are \n",
      "[100, 50, 6, 7, 8, 20, 17, 1900, 200, 199]\n",
      "Sorry value not in Marks List\n"
     ]
    }
   ],
   "source": [
    "#search and modify list elements\n",
    "found=False\n",
    "item=int(input(\"input value you want to change \"))\n",
    "for i in range(0,10):\n",
    "    if marks[i]==item:\n",
    "        marks[i]=int(input(\"Enter a new value to replace \"+(str(item))))\n",
    "        found=True\n",
    "print(\"Now marks are \")\n",
    "print(marks)\n",
    "\n",
    "if found==False:\n",
    "    print('Sorry value not in Marks List')\n"
   ]
  },
  {
   "cell_type": "code",
   "execution_count": 6,
   "metadata": {
    "tags": []
   },
   "outputs": [
    {
     "name": "stdout",
     "output_type": "stream",
     "text": [
      "[10, 20, 30, 40, 50, 2, 4, 6, 8, 10, 12]\n",
      "10 20 30 40 50 2 4 6 8 10 12 \n",
      "[10, 20, 30, 40, 50, 10, 20, 30, 40, 50, 10, 20, 30, 40, 50]\n"
     ]
    }
   ],
   "source": [
    "#LIST OPERATIONS\n",
    "#CONCATENATION (it means joining of two or more lists together)\n",
    "lst1=[10,20,30,40,50]\n",
    "lst2=[2,4,6,8,10,12]\n",
    "lst3=lst1+lst2 #lst1 and lst2 concated into lst3\n",
    "print(lst3) #printing lst3 values technique one\n",
    "for i in lst3: #printing lst3 values technique two\n",
    "    print(i,end=\" \")\n",
    "\n",
    "print() #insert a blank line\n",
    "print(lst1*3) #lst1 values will be printed thrice (replication/multiple copies)"
   ]
  },
  {
   "cell_type": "code",
   "execution_count": 9,
   "metadata": {
    "tags": []
   },
   "outputs": [
    {
     "name": "stdout",
     "output_type": "stream",
     "text": [
      "[10, 20, 30, 40, 50]\n",
      "Not present in List\n",
      "present in list\n"
     ]
    }
   ],
   "source": [
    "#membership operator \"in\"\n",
    "#it returns True if a value present in list otherwise False\n",
    "print(lst1) #to see lst1 values\n",
    "500 in lst1 #simple usage\n",
    "#when to determine and display specific message\n",
    "if 500 in lst1:\n",
    "    print(\"Present in List\")\n",
    "else:\n",
    "    print(\"Not present in List\")\n",
    "\n",
    "#determining presence of user input values\n",
    "num=int(input(\"Enter a value to search in list\"))\n",
    "if num in lst1:\n",
    "    print(\"present in list\")\n",
    "else:\n",
    "    print(\"Not present in list\")"
   ]
  },
  {
   "cell_type": "code",
   "execution_count": 13,
   "metadata": {
    "tags": []
   },
   "outputs": [
    {
     "name": "stdout",
     "output_type": "stream",
     "text": [
      "[10, 20]\n",
      "[10, 20, 30, 40, 50]\n",
      "[10, 20, 30, 40]\n",
      "[10, 20, 30, 40, 50]\n"
     ]
    }
   ],
   "source": [
    "#slicing\n",
    "lst1=[10,20,30,40,50]\n",
    "#indexes of list values\n",
    "#from left to right-> 0 to number of values\n",
    "#from right to left-> -1, -2, -3 to initial value\n",
    "#print(lst1[stratindex:endindex])\n",
    "print(lst1[0:2])\n",
    "print(lst1[:])\n",
    "print(lst1[:-1])\n",
    "print(lst1[-5:])"
   ]
  },
  {
   "cell_type": "code",
   "execution_count": 7,
   "metadata": {
    "tags": []
   },
   "outputs": [
    {
     "name": "stdout",
     "output_type": "stream",
     "text": [
      "21\n",
      "12\n",
      "9\n",
      "i\n",
      "n\n",
      "f\n",
      "o\n",
      "r\n",
      "m\n",
      "a\n",
      "t\n",
      "i\n",
      "c\n",
      "s\n",
      " \n",
      "p\n",
      "r\n",
      "a\n",
      "c\n",
      "t\n",
      "i\n",
      "c\n",
      "e\n",
      "s\n",
      "21   21\n"
     ]
    }
   ],
   "source": [
    "#string: it refers to values/characters enclosed in single or double quotes. It may include alphabets, digits, symbols and spaces also.\n",
    "\n",
    "#methods()\n",
    "#The method are also known as functions that are inbuilt inside a class. \n",
    "#Python support number of inbuilt functions/methods\n",
    "#when functions are defined inside a class then they are known as methods.abs\n",
    "\n",
    "#function/method: It is a named set programming statements that performs predefined task. It may take arguments and may return a value. Method is a sub-program. \n",
    "\n",
    "#different List methods are:\n",
    "\n",
    "#len(argument): It is used find length (count of character present in string) lenth of string including spaces if any. \n",
    "\n",
    "sub=\"informatics practices\"\n",
    "print(len(sub))\n",
    "name=\"arti shokeen\"\n",
    "print(len(name))\n",
    "line=\"abc + xyz\"\n",
    "print(len(line))\n",
    "\n",
    "count=0\n",
    "for i in sub:\n",
    "    print(i)\n",
    "    count+=1\n",
    "\n",
    "print(count,\" \",len(sub))\n",
    "\n"
   ]
  },
  {
   "cell_type": "code",
   "execution_count": 2,
   "metadata": {
    "tags": []
   },
   "outputs": [
    {
     "name": "stdout",
     "output_type": "stream",
     "text": [
      "3\n",
      "\n",
      "14\n"
     ]
    }
   ],
   "source": [
    "#Aug 29, 2020\n",
    "l=[1,2,\"Mohnish\"]\n",
    "addr=\"class 11-C, Ip\"\n",
    "#Syntax: len(argument) argument is the value/variable whos length to be calculated.\n",
    "#blank spaces and symbols are also part of length of string.\n",
    "print(len(l))\n",
    "print()\n",
    "print(len(addr))"
   ]
  },
  {
   "cell_type": "code",
   "execution_count": 5,
   "metadata": {
    "tags": []
   },
   "outputs": [
    {
     "name": "stdout",
     "output_type": "stream",
     "text": [
      "[10, 100, 1000, 10000, 100000]\n"
     ]
    }
   ],
   "source": [
    "#append(): this method is used to add/store a new at end of the list. Previous values will also be retained\n",
    "\n",
    "lst=[]\n",
    "for i in range(0,5):\n",
    "    var=int(input(\"Enter a value \"))\n",
    "    lst.append(var)\n",
    "\n",
    "print(lst)\n"
   ]
  },
  {
   "cell_type": "code",
   "execution_count": 7,
   "metadata": {
    "tags": []
   },
   "outputs": [
    {
     "name": "stdout",
     "output_type": "stream",
     "text": [
      "[1, 2, 3, 4, 5, 6]\n",
      "[4, 5, 6, 1, 2, 3, 4, 5, 6]\n"
     ]
    }
   ],
   "source": [
    "#extend() It appends each element of the list passed as argument at the end of the already existing list\n",
    "\n",
    "#Syntax:  list1.extend(list2)\n",
    "list1=[1,2,3]\n",
    "list2=[4,5,6]\n",
    "list1.extend(list2)\n",
    "print(list1)\n",
    "list2.extend(list1)\n",
    "print(list2)"
   ]
  },
  {
   "cell_type": "code",
   "execution_count": 10,
   "metadata": {
    "tags": []
   },
   "outputs": [
    {
     "name": "stdout",
     "output_type": "stream",
     "text": [
      "[1, 2, 3, 50]\n",
      "50\n"
     ]
    }
   ],
   "source": [
    "#insert(index,value): It is used to insert a new value at the given index\n",
    "#NOTE: if user gives higher index then the existing indexes, in such case it automatically consider last index+1\n",
    "list1=[1,2,3]\n",
    "nv=int(input(\"Enter a new value \"))\n",
    "ind=int(input(\"Enter an index/position\"))\n",
    "list1.insert(ind,nv)\n",
    "print(list1)\n",
    "print(list1[3])"
   ]
  },
  {
   "cell_type": "code",
   "execution_count": 13,
   "metadata": {
    "tags": []
   },
   "outputs": [
    {
     "name": "stdout",
     "output_type": "stream",
     "text": [
      "Number of occurence  1\n"
     ]
    }
   ],
   "source": [
    "#count(argument): it will count the number of occurences of arguement in the list\n",
    "\n",
    "list1=[1,2,3,4,5,2,1,2,10]\n",
    "n=list1.count(5)  #it will return/give the occurences of 2 in list\n",
    "print(\"Number of occurence \",n)"
   ]
  },
  {
   "cell_type": "code",
   "execution_count": 15,
   "metadata": {
    "tags": []
   },
   "outputs": [
    {
     "name": "stdout",
     "output_type": "stream",
     "text": [
      "The index is  3\n"
     ]
    }
   ],
   "source": [
    "#index(argument): It returns the index of the argument from the list\n",
    "#Note: if the argument in not present in the list then ValueError is displayed\n",
    "lst1=[10,20,30,40,50,60]\n",
    "pos=lst1.index(40)\n",
    "print(\"The index is \",pos)\n"
   ]
  },
  {
   "cell_type": "code",
   "execution_count": 5,
   "metadata": {
    "tags": []
   },
   "outputs": [
    {
     "name": "stdout",
     "output_type": "stream",
     "text": [
      "[10, 20, 'school']\n",
      "[100, 20, 'school']\n"
     ]
    }
   ],
   "source": [
    "list=[10,20,\"school\"]\n",
    "print(list)\n",
    "list[0]=100\n",
    "print(list)"
   ]
  },
  {
   "cell_type": "code",
   "execution_count": 2,
   "metadata": {
    "tags": []
   },
   "outputs": [
    {
     "name": "stdout",
     "output_type": "stream",
     "text": [
      "Values in list are  [1, 2, 3, 4, 5, 6, 7, 8, 9, 10]\n",
      "Now the list is  [1, 2, 3, 4, 5, 6, 7, 9, 10]\n"
     ]
    }
   ],
   "source": [
    "#August 31, 2020 Monday\n",
    "#remove(arg): it will remove a value from list passed as an argument to it\n",
    "lst=[1,2,3,4,5,6,7,8,9,10]\n",
    "print(\"Values in list are \",lst)\n",
    "item=int(input(\"Enter value to delete \"))\n",
    "lst.remove(item)\n",
    "print(\"Now the list is \",lst)"
   ]
  },
  {
   "cell_type": "code",
   "execution_count": 4,
   "metadata": {
    "tags": []
   },
   "outputs": [
    {
     "name": "stdout",
     "output_type": "stream",
     "text": [
      "Values in list are  [1, 2, 3, 4, 5, 6, 7, 8, 9, 10]\n",
      "Now values in list are  [1, 2, 3, 4, 5, 6, 8, 9, 10]\n"
     ]
    }
   ],
   "source": [
    "#pop(arg): It will delete/pop the argument from the list. If argument is missing\n",
    "#then the last value from list will be by default popped\n",
    "lst=[1,2,3,4,5,6,7,8,9,10]\n",
    "print(\"Values in list are \",lst)\n",
    "item=int(input(\"Enter an index to pop value \"))\n",
    "lst.pop(item)\n",
    "print(\"Now values in list are \",lst)"
   ]
  },
  {
   "cell_type": "code",
   "execution_count": null,
   "metadata": {},
   "outputs": [],
   "source": []
  },
  {
   "cell_type": "code",
   "execution_count": 5,
   "metadata": {
    "tags": []
   },
   "outputs": [
    {
     "name": "stdout",
     "output_type": "stream",
     "text": [
      "Values in list are  [1, 2, 3, 4, 5, 6, 7, 8, 9, 10]\n",
      "Now values in list are  [1, 2, 3, 4, 5, 6, 7, 8, 9]\n"
     ]
    }
   ],
   "source": [
    "#by default last value from list will be popped\n",
    "lst=[1,2,3,4,5,6,7,8,9,10]\n",
    "print(\"Values in list are \",lst)\n",
    "lst.pop()\n",
    "print(\"Now values in list are \",lst)"
   ]
  },
  {
   "cell_type": "code",
   "execution_count": 6,
   "metadata": {
    "tags": []
   },
   "outputs": [
    {
     "name": "stdout",
     "output_type": "stream",
     "text": [
      "The reversed list is  [10, 9, 8, 7, 6, 5, 4, 3, 2, 1]\n"
     ]
    }
   ],
   "source": [
    "#reverse(): It will reverse the values of list. It does not takes any argument\n",
    "lst=[1,2,3,4,5,6,7,8,9,10]\n",
    "lst.reverse()\n",
    "print(\"The reversed list is \",lst)"
   ]
  },
  {
   "cell_type": "code",
   "execution_count": 9,
   "metadata": {
    "tags": []
   },
   "outputs": [
    {
     "name": "stdout",
     "output_type": "stream",
     "text": [
      "Values in Ascending order are  [1, 2, 3, 4, 5, 6, 7, 8, 9, 10]\n",
      "Names in Ascending order are  ['Anshika', 'Hitansh', 'Mimansa', 'Rishabh', 'Yuvika']\n"
     ]
    }
   ],
   "source": [
    "#sort(): This method is used to arrange the values in ascending order. It does not takes any argument\n",
    "lst=[10,9,8,7,6,5,4,3,2,1]\n",
    "names=[\"Yuvika\",\"Rishabh\",\"Anshika\",\"Hitansh\",\"Mimansa\"]\n",
    "lst.sort()\n",
    "print(\"Values in Ascending order are \",lst)\n",
    "names.sort()\n",
    "print(\"Names in Ascending order are \",names)"
   ]
  },
  {
   "cell_type": "code",
   "execution_count": null,
   "metadata": {},
   "outputs": [],
   "source": []
  },
  {
   "cell_type": "code",
   "execution_count": 10,
   "metadata": {
    "tags": []
   },
   "outputs": [
    {
     "name": "stdout",
     "output_type": "stream",
     "text": [
      "Original values in list are  [10, 9, 8, 7, 6, 5, 4, 3, 2, 1]\n",
      "Values in Ascending order are  [1, 2, 3, 4, 5, 6, 7, 8, 9, 10]\n",
      "Original list of names is  ['Yuvika', 'Rishabh', 'Anshika', 'Hitansh', 'Mimansa']\n",
      "Names in Ascending order are  ['Anshika', 'Hitansh', 'Mimansa', 'Rishabh', 'Yuvika']\n"
     ]
    }
   ],
   "source": [
    "#sorted(arg): It sorts the argument in ascending order and assigs sorted values to a new variable\n",
    "lst=[10,9,8,7,6,5,4,3,2,1]\n",
    "names=[\"Yuvika\",\"Rishabh\",\"Anshika\",\"Hitansh\",\"Mimansa\"]\n",
    "slst=sorted(lst)\n",
    "print(\"Original values in list are \",lst)\n",
    "print(\"Values in Ascending order are \",slst)\n",
    "snames=sorted(names)\n",
    "print(\"Original list of names is \",names)\n",
    "print(\"Names in Ascending order are \",snames)"
   ]
  },
  {
   "cell_type": "code",
   "execution_count": 13,
   "metadata": {
    "tags": []
   },
   "outputs": [
    {
     "name": "stdout",
     "output_type": "stream",
     "text": [
      "Minimum Value= 1\n",
      "Maximum Value= 10\n",
      "Sum of values= 55\n",
      "The last name in list should be  Yuvika\n",
      "The first name in list should be  Anshika\n"
     ]
    }
   ],
   "source": [
    "#min(arg): It returns the minimum value from the argument list\n",
    "# max(arg): It returns the maximum value from the argument list\n",
    "# sum(arg): It returns the sum of values in list passed as argument\n",
    "lst=[10,9,8,7,6,5,4,3,2,1]\n",
    "print(\"Minimum Value=\",min(lst))\n",
    "print(\"Maximum Value=\",max(lst))\n",
    "print(\"Sum of values=\",sum(lst))\n",
    "print(\"The last name in list should be \",max(names))\n",
    "print(\"The first name in list should be \",min(names))"
   ]
  },
  {
   "cell_type": "code",
   "execution_count": null,
   "metadata": {},
   "outputs": [],
   "source": [
    "#Sept 01, 2020\n",
    "#WAP to perform all list operations through prog at pg no. 73"
   ]
  },
  {
   "cell_type": "code",
   "execution_count": 4,
   "metadata": {
    "tags": []
   },
   "outputs": [
    {
     "name": "stdout",
     "output_type": "stream",
     "text": [
      "[10, 20, 30, 40, [50, 60]]\n",
      "[10, 20, 30, 40, [50, 60], 100, 200]\n",
      "[100, 200]\n",
      "[50, 60]\n"
     ]
    }
   ],
   "source": [
    "#Exerceise discussion September 07, 2020\n",
    "list1=[10,20,30,40]\n",
    "list2=[100,200]\n",
    "list1.append([50,60])\n",
    "print(list1)\n",
    "list1.extend(list2)\n",
    "print(list1)\n",
    "print(list2)\n",
    "print(list1[4])"
   ]
  },
  {
   "cell_type": "code",
   "execution_count": 6,
   "metadata": {
    "tags": []
   },
   "outputs": [
    {
     "name": "stdout",
     "output_type": "stream",
     "text": [
      "1\n",
      "3\n",
      "5\n",
      "7\n",
      "9\n"
     ]
    }
   ],
   "source": [
    "myList = [1,2,3,4,5,6,7,8,9,10]\n",
    "for i in range(0,len(myList)):\n",
    "    if i%2 == 0:\n",
    "        print(myList[i])"
   ]
  },
  {
   "cell_type": "code",
   "execution_count": 12,
   "metadata": {
    "tags": []
   },
   "outputs": [
    {
     "name": "stdout",
     "output_type": "stream",
     "text": [
      "[1, 3, 5, 7, 9]\n",
      "[10, 8, 6, 4, 2]\n"
     ]
    }
   ],
   "source": [
    "myList = [1,2,3,4,5,6,7,8,9,10]\n",
    "print(myList[::2])\n",
    "print(myList[::-2])"
   ]
  },
  {
   "cell_type": "code",
   "execution_count": 18,
   "metadata": {
    "tags": []
   },
   "outputs": [
    {
     "name": "stdout",
     "output_type": "stream",
     "text": [
      "Palindrome\n"
     ]
    }
   ],
   "source": [
    "# 121121\n",
    "# naman\n",
    "# nitin\n",
    "# malayalam\n",
    "# aviva\n",
    "# arora\n",
    "\n",
    "string=input(\"Provide an input \")\n",
    "if string[::]==string[::-1]:\n",
    "    print(\"Palindrome\")\n",
    "else:\n",
    "    print(\"Not Palindrome\")\n"
   ]
  },
  {
   "cell_type": "code",
   "execution_count": 13,
   "metadata": {},
   "outputs": [
    {
     "name": "stdout",
     "output_type": "stream",
     "text": [
      "The First highest value  40\n",
      "Second highest value  20\n"
     ]
    }
   ],
   "source": [
    "#September 14, 2020   Q.No.8\n",
    "max=0\n",
    "smax=0\n",
    "list=[10,5,7,2,40,20,15]\n",
    "for i in list:\n",
    "    if i>max:\n",
    "        max=i;\n",
    "print(\"The First highest value \",max)\n",
    "#max is 40 now\n",
    "for i in list:\n",
    "    if smax<i and i<max:\n",
    "        smax=i\n",
    "print(\"Second highest value \",smax)\n",
    "        "
   ]
  }
 ],
 "metadata": {
  "kernelspec": {
   "display_name": "Python 3.8.2 64-bit",
   "language": "python",
   "name": "python38264bitb802eb9e9a344217974099792e7b6497"
  },
  "language_info": {
   "codemirror_mode": {
    "name": "ipython",
    "version": 3
   },
   "file_extension": ".py",
   "mimetype": "text/x-python",
   "name": "python",
   "nbconvert_exporter": "python",
   "pygments_lexer": "ipython3",
   "version": "3.8.2"
  }
 },
 "nbformat": 4,
 "nbformat_minor": 2
}
